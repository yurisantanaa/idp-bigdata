{
 "cells": [
  {
   "cell_type": "code",
   "execution_count": 1,
   "id": "e6e10bba-0a8a-4b83-ba1e-9d69181d9af0",
   "metadata": {},
   "outputs": [
    {
     "name": "stdout",
     "output_type": "stream",
     "text": [
      "Collecting neo4j\n",
      "  Downloading neo4j-5.20.0.tar.gz (202 kB)\n",
      "\u001b[2K     \u001b[90m━━━━━━━━━━━━━━━━━━━━━━━━━━━━━━━━━━━━━\u001b[0m \u001b[32m203.0/203.0 kB\u001b[0m \u001b[31m376.0 kB/s\u001b[0m eta \u001b[36m0:00:00\u001b[0ma \u001b[36m0:00:01\u001b[0m\n",
      "\u001b[?25h  Installing build dependencies ... \u001b[?25ldone\n",
      "\u001b[?25h  Getting requirements to build wheel ... \u001b[?25ldone\n",
      "\u001b[?25h  Installing backend dependencies ... \u001b[?25ldone\n",
      "\u001b[?25h  Preparing metadata (pyproject.toml) ... \u001b[?25ldone\n",
      "\u001b[?25hRequirement already satisfied: pytz in /opt/conda/lib/python3.11/site-packages (from neo4j) (2023.3.post1)\n",
      "Building wheels for collected packages: neo4j\n",
      "  Building wheel for neo4j (pyproject.toml) ... \u001b[?25ldone\n",
      "\u001b[?25h  Created wheel for neo4j: filename=neo4j-5.20.0-py3-none-any.whl size=280771 sha256=8ae5077d343c68ef593ff48732a9cde2c0c8e0d3bc9f8e42568d9bcabd31be74\n",
      "  Stored in directory: /home/jovyan/.cache/pip/wheels/aa/7d/7c/d47bc6347b27804958165fa526d1b50a0c76bae5545c866f99\n",
      "Successfully built neo4j\n",
      "Installing collected packages: neo4j\n",
      "Successfully installed neo4j-5.20.0\n",
      "Note: you may need to restart the kernel to use updated packages.\n"
     ]
    }
   ],
   "source": [
    "#pip install neo4j"
   ]
  },
  {
   "cell_type": "code",
   "execution_count": 2,
   "id": "a6fc68a0-6c1f-4652-8af6-fd88cf82cab4",
   "metadata": {},
   "outputs": [
    {
     "name": "stdout",
     "output_type": "stream",
     "text": [
      "   rowid   pl_name hostname pl_letter    hd_name   hip_name         tic_id  \\\n",
      "0      1  11 Com b   11 Com         b  HD 107383  HIP 60202   TIC 72437047   \n",
      "1      2  11 Com b   11 Com         b  HD 107383  HIP 60202   TIC 72437047   \n",
      "2      3  11 Com b   11 Com         b  HD 107383  HIP 60202   TIC 72437047   \n",
      "3      4  11 UMi b   11 UMi         b  HD 136726  HIP 74793  TIC 230061010   \n",
      "4      5  11 UMi b   11 UMi         b  HD 136726  HIP 74793  TIC 230061010   \n",
      "\n",
      "                        gaia_id  default_flag  sy_snum  ...  sy_kepmag  \\\n",
      "0  Gaia DR2 3946945413106333696             0        2  ...        NaN   \n",
      "1  Gaia DR2 3946945413106333696             0        2  ...        NaN   \n",
      "2  Gaia DR2 3946945413106333696             1        2  ...        NaN   \n",
      "3  Gaia DR2 1696798367260229376             1        1  ...        NaN   \n",
      "4  Gaia DR2 1696798367260229376             0        1  ...        NaN   \n",
      "\n",
      "    rowupdate  pl_pubdate releasedate  pl_nnotes st_nphot st_nrvc st_nspec  \\\n",
      "0  2014-07-23     2011-08  2014-07-23        2.0      1.0     2.0      0.0   \n",
      "1  2014-05-14     2008-01  2014-05-14        2.0      1.0     2.0      0.0   \n",
      "2  2023-09-19     2023-08  2023-09-19        2.0      1.0     2.0      0.0   \n",
      "3  2018-09-04     2017-03  2018-09-06        0.0      1.0     1.0      0.0   \n",
      "4  2018-04-25     2011-08  2014-07-23        0.0      1.0     1.0      0.0   \n",
      "\n",
      "  pl_nespec pl_ntranspec  \n",
      "0       0.0          0.0  \n",
      "1       0.0          0.0  \n",
      "2       0.0          0.0  \n",
      "3       0.0          0.0  \n",
      "4       0.0          0.0  \n",
      "\n",
      "[5 rows x 121 columns]\n"
     ]
    }
   ],
   "source": [
    "import pandas as pd\n",
    "\n",
    "path = '/home/jovyan/data/exoplanets.csv'\n",
    "\n",
    "# Carregar o CSV com os tipos de dados especificados\n",
    "df = pd.read_csv(path, comment='#', low_memory=False)\n",
    "\n",
    "# Exibir as primeiras linhas do DataFrame para verificar a importação\n",
    "print(df.head())"
   ]
  },
  {
   "cell_type": "code",
   "execution_count": 3,
   "id": "0886375b-89c0-4e7e-9e97-32e0addff121",
   "metadata": {},
   "outputs": [],
   "source": [
    "# Criando o DataFrame de estrelas\n",
    "df_stars = df[['hostname', 'st_teff', 'st_mass', 'st_rad']].drop_duplicates()\n",
    "df_stars.columns = ['nome', 'st_teff', 'st_mass', 'st_rad']\n",
    "df_stars.insert(0, 'estrelaId', range(1, len(df_stars) + 1))\n",
    "df_stars.to_csv('/home/jovyan/data/estrelas.csv', index=False)"
   ]
  },
  {
   "cell_type": "code",
   "execution_count": 4,
   "id": "15329d7e-ec70-4a0a-8edf-e99f7b1fd95e",
   "metadata": {},
   "outputs": [],
   "source": [
    "# Criando o DataFrame de planetas \n",
    "df_planets = df[['pl_name', 'pl_rade', 'pl_masse', 'pl_eqt', 'hostname']]\n",
    "df_planets.columns = ['nome', 'raio', 'massa', 'eqtemp', 'estrelaNome']\n",
    "df_planets = pd.merge(df_planets, df_stars[['estrelaId', 'nome']], left_on='estrelaNome', right_on='nome', how='left')\n",
    "df_planets_final = df_planets[['nome_x', 'raio', 'massa', 'eqtemp', 'estrelaId']]\n",
    "df_planets_final.columns = ['nome', 'raio', 'massa', 'eqtemp', 'estrelaId']\n",
    "df_planets_final.to_csv('/home/jovyan/data/planetas.csv', index=False)"
   ]
  },
  {
   "cell_type": "code",
   "execution_count": 5,
   "id": "1e9adde1-49a2-4d0f-936c-960d8d541e56",
   "metadata": {},
   "outputs": [],
   "source": [
    "# Criando o DataFrame de observatórios\n",
    "df_obs = df[['disc_facility']].drop_duplicates()\n",
    "df_obs.columns = ['nome']\n",
    "df_obs.insert(0, 'observatorioId', range(1, len(df_obs) + 1))\n",
    "df_obs.to_csv('/home/jovyan/data/observatorios.csv', index=False)"
   ]
  },
  {
   "cell_type": "code",
   "execution_count": 7,
   "id": "30da6cb5-a6f0-4ad6-9e7e-9ef60da8e1ea",
   "metadata": {},
   "outputs": [],
   "source": [
    "# Criando o arquivo de relações entre planetas e estrelas (orbitas.csv)\n",
    "df_orbitas = df_planets_final[['nome', 'estrelaId']]\n",
    "df_orbitas.columns = [':START_ID(Planeta)', ':END_ID(Estrela)']\n",
    "df_orbitas.insert(2, 'tipo', 'ORBITA')\n",
    "df_orbitas.to_csv('/home/jovyan/data/orbitas.csv', index=False)"
   ]
  },
  {
   "cell_type": "code",
   "execution_count": 8,
   "id": "4ce07b43-f88b-4251-b24c-82370cd1ac28",
   "metadata": {},
   "outputs": [],
   "source": [
    "# Criando o arquivo de relações entre planetas e observatórios (descobertas.csv)\n",
    "df_descobertas = pd.merge(df_planets_final[['nome', 'estrelaId']], df[['pl_name', 'disc_facility']], left_on='nome', right_on='pl_name', how='left')\n",
    "df_descobertas_final = pd.merge(df_descobertas, df_obs[['observatorioId', 'nome']], left_on='disc_facility', right_on='nome', how='left')\n",
    "df_descobertas_final = df_descobertas_final[['nome_x', 'observatorioId']]\n",
    "df_descobertas_final.columns = [':START_ID(Planeta)', ':END_ID(Observatorio)']\n",
    "df_descobertas_final.insert(2, 'tipo', 'DESCOBERTO_POR')\n",
    "df_descobertas_final.to_csv('/home/jovyan/data/descobertas.csv', index=False)"
   ]
  },
  {
   "cell_type": "code",
   "execution_count": null,
   "id": "b6643e8d-6b31-48c0-8d09-f2652c4cca61",
   "metadata": {},
   "outputs": [],
   "source": []
  }
 ],
 "metadata": {
  "kernelspec": {
   "display_name": "Python 3 (ipykernel)",
   "language": "python",
   "name": "python3"
  },
  "language_info": {
   "codemirror_mode": {
    "name": "ipython",
    "version": 3
   },
   "file_extension": ".py",
   "mimetype": "text/x-python",
   "name": "python",
   "nbconvert_exporter": "python",
   "pygments_lexer": "ipython3",
   "version": "3.11.6"
  }
 },
 "nbformat": 4,
 "nbformat_minor": 5
}
